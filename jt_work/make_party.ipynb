{
 "cells": [
  {
   "cell_type": "code",
   "execution_count": 52,
   "metadata": {
    "collapsed": false
   },
   "outputs": [],
   "source": [
    "import pandas as pd\n",
    "import numpy as np\n",
    "import json\n",
    "import math\n",
    "#import cal_paramater from formula_for_battle"
   ]
  },
  {
   "cell_type": "markdown",
   "metadata": {},
   "source": [
    "jsonデータの読み込み  \n",
    "元データは https://github.com/kotofurumiya/pokemon_data から取得"
   ]
  },
  {
   "cell_type": "code",
   "execution_count": 5,
   "metadata": {
    "collapsed": false
   },
   "outputs": [
    {
     "data": {
      "text/html": [
       "<div>\n",
       "<table border=\"1\" class=\"dataframe\">\n",
       "  <thead>\n",
       "    <tr style=\"text-align: right;\">\n",
       "      <th></th>\n",
       "      <th>abilities</th>\n",
       "      <th>evolutions</th>\n",
       "      <th>form</th>\n",
       "      <th>hiddenAbilities</th>\n",
       "      <th>isMegaEvolution</th>\n",
       "      <th>name</th>\n",
       "      <th>no</th>\n",
       "      <th>stats</th>\n",
       "      <th>types</th>\n",
       "    </tr>\n",
       "  </thead>\n",
       "  <tbody>\n",
       "    <tr>\n",
       "      <th>0</th>\n",
       "      <td>[しんりょく, ]</td>\n",
       "      <td>[2]</td>\n",
       "      <td></td>\n",
       "      <td>[ようりょくそ]</td>\n",
       "      <td>False</td>\n",
       "      <td>フシギダネ</td>\n",
       "      <td>1</td>\n",
       "      <td>{'spAttack': 65, 'defence': 49, 'spDefence': 6...</td>\n",
       "      <td>[くさ, どく]</td>\n",
       "    </tr>\n",
       "    <tr>\n",
       "      <th>1</th>\n",
       "      <td>[しんりょく, ]</td>\n",
       "      <td>[3]</td>\n",
       "      <td></td>\n",
       "      <td>[ようりょくそ]</td>\n",
       "      <td>False</td>\n",
       "      <td>フシギソウ</td>\n",
       "      <td>2</td>\n",
       "      <td>{'spAttack': 80, 'defence': 63, 'spDefence': 8...</td>\n",
       "      <td>[くさ, どく]</td>\n",
       "    </tr>\n",
       "    <tr>\n",
       "      <th>2</th>\n",
       "      <td>[しんりょく, ]</td>\n",
       "      <td>[]</td>\n",
       "      <td></td>\n",
       "      <td>[ようりょくそ]</td>\n",
       "      <td>False</td>\n",
       "      <td>フシギバナ</td>\n",
       "      <td>3</td>\n",
       "      <td>{'spAttack': 100, 'defence': 83, 'spDefence': ...</td>\n",
       "      <td>[くさ, どく]</td>\n",
       "    </tr>\n",
       "    <tr>\n",
       "      <th>3</th>\n",
       "      <td>[あついしぼう, ]</td>\n",
       "      <td>[]</td>\n",
       "      <td></td>\n",
       "      <td>[]</td>\n",
       "      <td>True</td>\n",
       "      <td>メガフシギバナ</td>\n",
       "      <td>3</td>\n",
       "      <td>{'spAttack': 122, 'defence': 123, 'spDefence':...</td>\n",
       "      <td>[くさ, どく]</td>\n",
       "    </tr>\n",
       "    <tr>\n",
       "      <th>4</th>\n",
       "      <td>[もうか, ]</td>\n",
       "      <td>[5]</td>\n",
       "      <td></td>\n",
       "      <td>[サンパワー]</td>\n",
       "      <td>False</td>\n",
       "      <td>ヒトカゲ</td>\n",
       "      <td>4</td>\n",
       "      <td>{'spAttack': 60, 'defence': 43, 'spDefence': 5...</td>\n",
       "      <td>[ほのお, ]</td>\n",
       "    </tr>\n",
       "    <tr>\n",
       "      <th>5</th>\n",
       "      <td>[もうか, ]</td>\n",
       "      <td>[6]</td>\n",
       "      <td></td>\n",
       "      <td>[サンパワー]</td>\n",
       "      <td>False</td>\n",
       "      <td>リザード</td>\n",
       "      <td>5</td>\n",
       "      <td>{'spAttack': 80, 'defence': 58, 'spDefence': 6...</td>\n",
       "      <td>[ほのお, ]</td>\n",
       "    </tr>\n",
       "    <tr>\n",
       "      <th>6</th>\n",
       "      <td>[もうか, ]</td>\n",
       "      <td>[]</td>\n",
       "      <td></td>\n",
       "      <td>[サンパワー]</td>\n",
       "      <td>False</td>\n",
       "      <td>リザードン</td>\n",
       "      <td>6</td>\n",
       "      <td>{'spAttack': 109, 'defence': 78, 'spDefence': ...</td>\n",
       "      <td>[ほのお, ひこう]</td>\n",
       "    </tr>\n",
       "    <tr>\n",
       "      <th>7</th>\n",
       "      <td>[かたいツメ, ]</td>\n",
       "      <td>[]</td>\n",
       "      <td></td>\n",
       "      <td>[]</td>\n",
       "      <td>True</td>\n",
       "      <td>メガリザードンX</td>\n",
       "      <td>6</td>\n",
       "      <td>{'spAttack': 130, 'defence': 111, 'spDefence':...</td>\n",
       "      <td>[ほのお, ドラゴン]</td>\n",
       "    </tr>\n",
       "    <tr>\n",
       "      <th>8</th>\n",
       "      <td>[ひでり, ]</td>\n",
       "      <td>[]</td>\n",
       "      <td></td>\n",
       "      <td>[]</td>\n",
       "      <td>True</td>\n",
       "      <td>メガリザードンY</td>\n",
       "      <td>6</td>\n",
       "      <td>{'spAttack': 159, 'defence': 78, 'spDefence': ...</td>\n",
       "      <td>[ほのお, ひこう]</td>\n",
       "    </tr>\n",
       "    <tr>\n",
       "      <th>9</th>\n",
       "      <td>[げきりゅう, ]</td>\n",
       "      <td>[8]</td>\n",
       "      <td></td>\n",
       "      <td>[あめうけざら]</td>\n",
       "      <td>False</td>\n",
       "      <td>ゼニガメ</td>\n",
       "      <td>7</td>\n",
       "      <td>{'spAttack': 50, 'defence': 65, 'spDefence': 6...</td>\n",
       "      <td>[みず, ]</td>\n",
       "    </tr>\n",
       "  </tbody>\n",
       "</table>\n",
       "</div>"
      ],
      "text/plain": [
       "    abilities evolutions form hiddenAbilities isMegaEvolution      name  no  \\\n",
       "0   [しんりょく, ]        [2]             [ようりょくそ]           False     フシギダネ   1   \n",
       "1   [しんりょく, ]        [3]             [ようりょくそ]           False     フシギソウ   2   \n",
       "2   [しんりょく, ]         []             [ようりょくそ]           False     フシギバナ   3   \n",
       "3  [あついしぼう, ]         []                   []            True   メガフシギバナ   3   \n",
       "4     [もうか, ]        [5]              [サンパワー]           False      ヒトカゲ   4   \n",
       "5     [もうか, ]        [6]              [サンパワー]           False      リザード   5   \n",
       "6     [もうか, ]         []              [サンパワー]           False     リザードン   6   \n",
       "7   [かたいツメ, ]         []                   []            True  メガリザードンX   6   \n",
       "8     [ひでり, ]         []                   []            True  メガリザードンY   6   \n",
       "9   [げきりゅう, ]        [8]             [あめうけざら]           False      ゼニガメ   7   \n",
       "\n",
       "                                               stats        types  \n",
       "0  {'spAttack': 65, 'defence': 49, 'spDefence': 6...     [くさ, どく]  \n",
       "1  {'spAttack': 80, 'defence': 63, 'spDefence': 8...     [くさ, どく]  \n",
       "2  {'spAttack': 100, 'defence': 83, 'spDefence': ...     [くさ, どく]  \n",
       "3  {'spAttack': 122, 'defence': 123, 'spDefence':...     [くさ, どく]  \n",
       "4  {'spAttack': 60, 'defence': 43, 'spDefence': 5...      [ほのお, ]  \n",
       "5  {'spAttack': 80, 'defence': 58, 'spDefence': 6...      [ほのお, ]  \n",
       "6  {'spAttack': 109, 'defence': 78, 'spDefence': ...   [ほのお, ひこう]  \n",
       "7  {'spAttack': 130, 'defence': 111, 'spDefence':...  [ほのお, ドラゴン]  \n",
       "8  {'spAttack': 159, 'defence': 78, 'spDefence': ...   [ほのお, ひこう]  \n",
       "9  {'spAttack': 50, 'defence': 65, 'spDefence': 6...       [みず, ]  "
      ]
     },
     "execution_count": 5,
     "metadata": {},
     "output_type": "execute_result"
    }
   ],
   "source": [
    "f = open(\"pokemon_data.json\", 'r')\n",
    "data_j = json.load(f)\n",
    "\n",
    "data_df = pd.DataFrame(data_j)\n",
    "data_df.head(10)"
   ]
  },
  {
   "cell_type": "code",
   "execution_count": 57,
   "metadata": {
    "collapsed": false
   },
   "outputs": [
    {
     "data": {
      "text/html": [
       "<div>\n",
       "<table border=\"1\" class=\"dataframe\">\n",
       "  <thead>\n",
       "    <tr style=\"text-align: right;\">\n",
       "      <th></th>\n",
       "      <th>abilities</th>\n",
       "      <th>evolutions</th>\n",
       "      <th>form</th>\n",
       "      <th>hiddenAbilities</th>\n",
       "      <th>isMegaEvolution</th>\n",
       "      <th>name</th>\n",
       "      <th>no</th>\n",
       "      <th>stats</th>\n",
       "      <th>types</th>\n",
       "    </tr>\n",
       "  </thead>\n",
       "  <tbody>\n",
       "    <tr>\n",
       "      <th>3</th>\n",
       "      <td>[あついしぼう, ]</td>\n",
       "      <td>[]</td>\n",
       "      <td></td>\n",
       "      <td>[]</td>\n",
       "      <td>True</td>\n",
       "      <td>メガフシギバナ</td>\n",
       "      <td>3</td>\n",
       "      <td>{'spAttack': 122, 'defence': 123, 'spDefence':...</td>\n",
       "      <td>[くさ, どく]</td>\n",
       "    </tr>\n",
       "    <tr>\n",
       "      <th>436</th>\n",
       "      <td>[ふゆう, ]</td>\n",
       "      <td>[]</td>\n",
       "      <td></td>\n",
       "      <td>[]</td>\n",
       "      <td>True</td>\n",
       "      <td>メガラティアス</td>\n",
       "      <td>380</td>\n",
       "      <td>{'spAttack': 140, 'defence': 120, 'spDefence':...</td>\n",
       "      <td>[ドラゴン, エスパー]</td>\n",
       "    </tr>\n",
       "    <tr>\n",
       "      <th>551</th>\n",
       "      <td>[ふゆう, ]</td>\n",
       "      <td>[]</td>\n",
       "      <td>ウォッシュロトム</td>\n",
       "      <td>[]</td>\n",
       "      <td>False</td>\n",
       "      <td>ロトム</td>\n",
       "      <td>479</td>\n",
       "      <td>{'spAttack': 105, 'defence': 107, 'spDefence':...</td>\n",
       "      <td>[でんき, みず]</td>\n",
       "    </tr>\n",
       "    <tr>\n",
       "      <th>826</th>\n",
       "      <td>[もうか, ]</td>\n",
       "      <td>[]</td>\n",
       "      <td></td>\n",
       "      <td>[いかく]</td>\n",
       "      <td>False</td>\n",
       "      <td>ガオガエン</td>\n",
       "      <td>727</td>\n",
       "      <td>{'spAttack': 80, 'defence': 90, 'spDefence': 9...</td>\n",
       "      <td>[ほのお, あく]</td>\n",
       "    </tr>\n",
       "    <tr>\n",
       "      <th>829</th>\n",
       "      <td>[げきりゅう, ]</td>\n",
       "      <td>[]</td>\n",
       "      <td></td>\n",
       "      <td>[うるおいボイス]</td>\n",
       "      <td>False</td>\n",
       "      <td>アシレーヌ</td>\n",
       "      <td>730</td>\n",
       "      <td>{'spAttack': 126, 'defence': 74, 'spDefence': ...</td>\n",
       "      <td>[みず, フェアリー]</td>\n",
       "    </tr>\n",
       "    <tr>\n",
       "      <th>903</th>\n",
       "      <td>[ビーストブースト, ]</td>\n",
       "      <td>[]</td>\n",
       "      <td></td>\n",
       "      <td>[]</td>\n",
       "      <td>False</td>\n",
       "      <td>テッカグヤ</td>\n",
       "      <td>797</td>\n",
       "      <td>{'spAttack': 107, 'defence': 103, 'spDefence':...</td>\n",
       "      <td>[はがね, ひこう]</td>\n",
       "    </tr>\n",
       "  </tbody>\n",
       "</table>\n",
       "</div>"
      ],
      "text/plain": [
       "        abilities evolutions      form hiddenAbilities isMegaEvolution  \\\n",
       "3      [あついしぼう, ]         []                        []            True   \n",
       "436       [ふゆう, ]         []                        []            True   \n",
       "551       [ふゆう, ]         []  ウォッシュロトム              []           False   \n",
       "826       [もうか, ]         []                     [いかく]           False   \n",
       "829     [げきりゅう, ]         []                 [うるおいボイス]           False   \n",
       "903  [ビーストブースト, ]         []                        []           False   \n",
       "\n",
       "        name   no                                              stats  \\\n",
       "3    メガフシギバナ    3  {'spAttack': 122, 'defence': 123, 'spDefence':...   \n",
       "436  メガラティアス  380  {'spAttack': 140, 'defence': 120, 'spDefence':...   \n",
       "551      ロトム  479  {'spAttack': 105, 'defence': 107, 'spDefence':...   \n",
       "826    ガオガエン  727  {'spAttack': 80, 'defence': 90, 'spDefence': 9...   \n",
       "829    アシレーヌ  730  {'spAttack': 126, 'defence': 74, 'spDefence': ...   \n",
       "903    テッカグヤ  797  {'spAttack': 107, 'defence': 103, 'spDefence':...   \n",
       "\n",
       "            types  \n",
       "3        [くさ, どく]  \n",
       "436  [ドラゴン, エスパー]  \n",
       "551     [でんき, みず]  \n",
       "826     [ほのお, あく]  \n",
       "829   [みず, フェアリー]  \n",
       "903    [はがね, ひこう]  "
      ]
     },
     "execution_count": 57,
     "metadata": {},
     "output_type": "execute_result"
    }
   ],
   "source": [
    "### 使用予定の6匹を抽出\n",
    "### 元データの仕様でロトムだけnameではなくformでフィルタなので注意\n",
    "my_1 = 'ガオガエン'\n",
    "my_2 = 'ウォッシュロトム'\n",
    "my_3 = 'メガラティアス'\n",
    "en_1 = 'テッカグヤ'\n",
    "en_2 = 'アシレーヌ'\n",
    "en_3 = 'メガフシギバナ'\n",
    "\n",
    "pt_data =  data_df.query(\"name == @my_1 or form == @my_2 or name == @my_3 \\\n",
    "or name == @en_1 or name == @en_2 or name == @en_3\")\n",
    "pt_data"
   ]
  },
  {
   "cell_type": "code",
   "execution_count": 27,
   "metadata": {
    "collapsed": false
   },
   "outputs": [],
   "source": [
    "hoge = pt_data.query(\"name == 'メガラティアス'\")"
   ]
  },
  {
   "cell_type": "markdown",
   "metadata": {},
   "source": [
    "この辺模索中"
   ]
  },
  {
   "cell_type": "code",
   "execution_count": 45,
   "metadata": {
    "collapsed": false
   },
   "outputs": [],
   "source": [
    "param_syuzokuchi = dict(hoge.stats)"
   ]
  },
  {
   "cell_type": "code",
   "execution_count": 44,
   "metadata": {
    "collapsed": false
   },
   "outputs": [
    {
     "data": {
      "text/plain": [
       "436"
      ]
     },
     "execution_count": 44,
     "metadata": {},
     "output_type": "execute_result"
    }
   ],
   "source": [
    "hoge.index[0]"
   ]
  },
  {
   "cell_type": "code",
   "execution_count": 47,
   "metadata": {
    "collapsed": false
   },
   "outputs": [
    {
     "data": {
      "text/plain": [
       "80"
      ]
     },
     "execution_count": 47,
     "metadata": {},
     "output_type": "execute_result"
    }
   ],
   "source": [
    "param_syuzokuchi[hoge.index[0]]['hp']"
   ]
  },
  {
   "cell_type": "code",
   "execution_count": 48,
   "metadata": {
    "collapsed": false
   },
   "outputs": [
    {
     "data": {
      "text/plain": [
       "{'attack': 100,\n",
       " 'defence': 120,\n",
       " 'hp': 80,\n",
       " 'spAttack': 140,\n",
       " 'spDefence': 150,\n",
       " 'speed': 110}"
      ]
     },
     "execution_count": 48,
     "metadata": {},
     "output_type": "execute_result"
    }
   ],
   "source": [
    "param_syuzokuchi[hoge.index[0]]"
   ]
  },
  {
   "cell_type": "code",
   "execution_count": null,
   "metadata": {
    "collapsed": true
   },
   "outputs": [],
   "source": []
  },
  {
   "cell_type": "code",
   "execution_count": 58,
   "metadata": {
    "collapsed": true
   },
   "outputs": [],
   "source": [
    "### パラメータ計算の関数をこっちに持ってきてみる\n",
    "def cal_paramater(h,a,b,c,d,s,h_d,a_d,b_d,c_d,d_d,s_d,personal):\n",
    "    ### 本来的には性格に対するパラメータ補正値を辞書とかで持たせておけば良い気もするが、今回4種しか使わないのでゴリ押し\n",
    "    if personal == 0:\n",
    "        a_hosei = 1.1\n",
    "        b_hosei = 1\n",
    "        c_hosei = 0.9\n",
    "        d_hosei = 1\n",
    "        s_hosei = 1\n",
    "    elif personal == 1:\n",
    "        a_hosei = 0.9\n",
    "        b_hosei = 1\n",
    "        c_hosei = 1.1\n",
    "        d_hosei = 1\n",
    "        s_hosei = 1\n",
    "    elif personal == 2:\n",
    "        a_hosei = 1.1\n",
    "        b_hosei = 1\n",
    "        c_hosei = 1\n",
    "        d_hosei = 1\n",
    "        s_hosei = 0.9\n",
    "    elif personal == 3:\n",
    "        a_hosei = 1\n",
    "        b_hosei = 1\n",
    "        c_hosei = 1.1\n",
    "        d_hosei = 1\n",
    "        s_hosei = 0.9\n",
    "    else:\n",
    "        a_hosei = 1\n",
    "        b_hosei = 1\n",
    "        c_hosei = 1\n",
    "        d_hosei = 1\n",
    "        s_hosei = 1\n",
    "    \n",
    "    h_j = math.floor((h + 31/2 + h_d/8)+60)\n",
    "    a_j = math.floor(((a + 31/2 + a_d/8)+5)*a_hosei)\n",
    "    b_j = math.floor(((b + 31/2 + b_d/8)+5)*b_hosei)\n",
    "    c_j = math.floor(((c + 31/2 + c_d/8)+5)*c_hosei)\n",
    "    d_j = math.floor(((d + 31/2 + d_d/8)+5)*d_hosei)\n",
    "    s_j = math.floor(((s + 31/2 + s_d/8)+5)*s_hosei)\n",
    "    \n",
    "    return h_j, a_j, b_j, c_j, d_j, s_j"
   ]
  },
  {
   "cell_type": "code",
   "execution_count": 60,
   "metadata": {
    "collapsed": false
   },
   "outputs": [
    {
     "data": {
      "text/plain": [
       "(187, 108, 140, 211, 171, 130)"
      ]
     },
     "execution_count": 60,
     "metadata": {},
     "output_type": "execute_result"
    }
   ],
   "source": [
    "h = param_syuzokuchi[hoge.index[0]]['hp']\n",
    "a = param_syuzokuchi[hoge.index[0]]['attack']\n",
    "b = param_syuzokuchi[hoge.index[0]]['defence']\n",
    "c = param_syuzokuchi[hoge.index[0]]['spAttack']\n",
    "d = param_syuzokuchi[hoge.index[0]]['spDefence']\n",
    "s = param_syuzokuchi[hoge.index[0]]['speed']\n",
    "\n",
    "cal_paramater(h,a,b,c,d,s,252,0,0,252,4,0,1)\n",
    "### 控えめメガラティアス"
   ]
  },
  {
   "cell_type": "code",
   "execution_count": null,
   "metadata": {
    "collapsed": true
   },
   "outputs": [],
   "source": []
  }
 ],
 "metadata": {
  "kernelspec": {
   "display_name": "Python 3",
   "language": "python",
   "name": "python3"
  },
  "language_info": {
   "codemirror_mode": {
    "name": "ipython",
    "version": 3
   },
   "file_extension": ".py",
   "mimetype": "text/x-python",
   "name": "python",
   "nbconvert_exporter": "python",
   "pygments_lexer": "ipython3",
   "version": "3.5.1"
  }
 },
 "nbformat": 4,
 "nbformat_minor": 0
}
