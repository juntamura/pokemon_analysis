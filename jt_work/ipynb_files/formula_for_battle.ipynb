{
 "cells": [
  {
   "cell_type": "code",
   "execution_count": 3,
   "metadata": {
    "collapsed": true
   },
   "outputs": [],
   "source": [
    "import pandas as pd\n",
    "import numpy as np\n",
    "import math"
   ]
  },
  {
   "cell_type": "markdown",
   "metadata": {},
   "source": [
    "### ダメ計"
   ]
  },
  {
   "cell_type": "code",
   "execution_count": 34,
   "metadata": {
    "collapsed": true
   },
   "outputs": [],
   "source": [
    "def cal_damage(a_param, d_param, wep, item, char):\n",
    "    dam = math.floor(50 * 2 / 5 + 2) * math.floor(a_param*wep / d_param) / 50 + 2\n",
    "    if item in (0,1):\n",
    "        dam = dam * 1.5\n",
    "    return dam\n",
    "\n",
    "### タイプ一致の補正は入力時に威力を1.5倍にする、でなんとかならんやろか\n",
    "### 特性の補正をここで入れるか、前部分で入れるか。前部分の方が良いかなー。"
   ]
  },
  {
   "cell_type": "code",
   "execution_count": 11,
   "metadata": {
    "collapsed": false
   },
   "outputs": [
    {
     "data": {
      "text/plain": [
       "201.0"
      ]
     },
     "execution_count": 11,
     "metadata": {},
     "output_type": "execute_result"
    }
   ],
   "source": [
    "cal_damage(200, 120, 180, 1, 0)"
   ]
  },
  {
   "cell_type": "markdown",
   "metadata": {},
   "source": [
    "### パラメータ計算"
   ]
  },
  {
   "cell_type": "code",
   "execution_count": 29,
   "metadata": {
    "collapsed": false
   },
   "outputs": [],
   "source": [
    "def cal_paramater(h, a, b, c, d,s,h_d, a_d, b_d, c_d, d_d, s_d, personal):\n",
    "    ### 本来的には性格に対するパラメータ補正値を辞書とかで持たせておけば良い気がするが、今回4種しか使わないのでゴリ押し\n",
    "    if personal == 0: ### 意地っ張り\n",
    "        a_hosei = 1.1\n",
    "        b_hosei = 1\n",
    "        c_hosei = 0.9\n",
    "        d_hosei = 1\n",
    "        s_hosei = 1\n",
    "    elif personal == 1: ### 控えめ\n",
    "        a_hosei = 0.9\n",
    "        b_hosei = 1\n",
    "        c_hosei = 1.1\n",
    "        d_hosei = 1\n",
    "        s_hosei = 1\n",
    "    elif personal == 2: ### 勇敢\n",
    "        a_hosei = 1.1\n",
    "        b_hosei = 1\n",
    "        c_hosei = 1\n",
    "        d_hosei = 1\n",
    "        s_hosei = 0.9\n",
    "    elif personal == 3: ### 冷静\n",
    "        a_hosei = 1\n",
    "        b_hosei = 1\n",
    "        c_hosei = 1.1\n",
    "        d_hosei = 1\n",
    "        s_hosei = 0.9\n",
    "    else:\n",
    "        a_hosei = 1\n",
    "        b_hosei = 1\n",
    "        c_hosei = 1\n",
    "        d_hosei = 1\n",
    "        s_hosei = 1\n",
    "    \n",
    "    h_j = math.floor((h + 31/2 + h_d/8)+60)\n",
    "    a_j = math.floor(((a + 31/2 + a_d/8)+5)*a_hosei)\n",
    "    b_j = math.floor(((b + 31/2 + b_d/8)+5)*b_hosei)\n",
    "    c_j = math.floor(((c + 31/2 + c_d/8)+5)*c_hosei)\n",
    "    d_j = math.floor(((d + 31/2 + d_d/8)+5)*d_hosei)\n",
    "    s_j = math.floor(((s + 31/2 + s_d/8)+5)*s_hosei)\n",
    "    \n",
    "    return h_j, a_j, b_j, c_j, d_j, s_j"
   ]
  },
  {
   "cell_type": "markdown",
   "metadata": {},
   "source": [
    "性格マスタ  \n",
    "0: 意地っ張り (a↑c↓)  \n",
    "1: 控えめ (c↑a↓)  \n",
    "2: 勇敢 (a↑s↓)  \n",
    "3: 冷静 (c↑s↓)  "
   ]
  },
  {
   "cell_type": "code",
   "execution_count": 36,
   "metadata": {
    "collapsed": false
   },
   "outputs": [
    {
     "data": {
      "text/plain": [
       "(183, 200, 116, 90, 105, 154)"
      ]
     },
     "execution_count": 36,
     "metadata": {},
     "output_type": "execute_result"
    }
   ],
   "source": [
    "### テスト\n",
    "## 意地っ張り, AS252, B4振りガブリアス\n",
    "cal_paramater(108,130,95,80,85,102,0,252,4,0,0,252,0)"
   ]
  },
  {
   "cell_type": "code",
   "execution_count": null,
   "metadata": {
    "collapsed": false
   },
   "outputs": [],
   "source": []
  },
  {
   "cell_type": "code",
   "execution_count": null,
   "metadata": {
    "collapsed": true
   },
   "outputs": [],
   "source": []
  }
 ],
 "metadata": {
  "kernelspec": {
   "display_name": "Python 3",
   "language": "python",
   "name": "python3"
  },
  "language_info": {
   "codemirror_mode": {
    "name": "ipython",
    "version": 3
   },
   "file_extension": ".py",
   "mimetype": "text/x-python",
   "name": "python",
   "nbconvert_exporter": "python",
   "pygments_lexer": "ipython3",
   "version": "3.5.1"
  }
 },
 "nbformat": 4,
 "nbformat_minor": 0
}
