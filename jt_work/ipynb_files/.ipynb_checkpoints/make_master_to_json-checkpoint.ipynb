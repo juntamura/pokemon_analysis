{
 "cells": [
  {
   "cell_type": "code",
   "execution_count": 1,
   "metadata": {
    "collapsed": true
   },
   "outputs": [],
   "source": [
    "import json\n",
    "from collections import defaultdict"
   ]
  },
  {
   "cell_type": "markdown",
   "metadata": {},
   "source": [
    "技マスタ"
   ]
  },
  {
   "cell_type": "code",
   "execution_count": 2,
   "metadata": {
    "collapsed": true
   },
   "outputs": [],
   "source": [
    "weapon_master = defaultdict(dict)"
   ]
  },
  {
   "cell_type": "code",
   "execution_count": 7,
   "metadata": {
    "collapsed": false
   },
   "outputs": [],
   "source": [
    "weapon_master['1']['name'] = 'ほのおのパンチ'\n",
    "weapon_master['1']['power'] = 75\n",
    "weapon_master['1']['acc'] = 100\n",
    "weapon_master['1']['type'] = 'FIRE'\n",
    "weapon_master['1']['A_spA'] = 'A'\n",
    "weapon_master['2']['name'] = 'DDラリアット'\n",
    "weapon_master['2']['power'] = 85\n",
    "weapon_master['2']['acc'] = 100\n",
    "weapon_master['2']['type'] = 'DARK'\n",
    "weapon_master['2']['A_spA'] = 'A'\n",
    "weapon_master['3']['name'] = 'じしん'\n",
    "weapon_master['3']['power'] = 100\n",
    "weapon_master['3']['acc'] = 100\n",
    "weapon_master['3']['type'] = 'GROUND'\n",
    "weapon_master['3']['A_spA'] = 'A'\n",
    "weapon_master['4']['name'] = 'とんぼがえり'\n",
    "weapon_master['4']['power'] = 120\n",
    "weapon_master['4']['acc'] = 100\n",
    "weapon_master['4']['type'] = 'BUG'\n",
    "weapon_master['4']['A_spA'] = 'A'\n",
    "weapon_master['5']['name'] = 'ハイドロポンプ'\n",
    "weapon_master['5']['power'] = 110\n",
    "weapon_master['5']['acc'] = 80\n",
    "weapon_master['5']['type'] = 'WATER'\n",
    "weapon_master['5']['A_spA'] = 'spA'\n",
    "weapon_master['6']['name'] = 'かみなり'\n",
    "weapon_master['6']['power'] = 110\n",
    "weapon_master['6']['acc'] = 70\n",
    "weapon_master['6']['type'] = 'ELECTR'\n",
    "weapon_master['6']['A_spA'] = 'spA'\n",
    "weapon_master['7']['name'] = 'めざめるパワーこおり'\n",
    "weapon_master['7']['power'] = 60\n",
    "weapon_master['7']['acc'] = 100\n",
    "weapon_master['7']['type'] = 'ICE'\n",
    "weapon_master['7']['A_spA'] = 'spA'\n",
    "weapon_master['8']['name'] = 'ボルトチェンジ'\n",
    "weapon_master['8']['power'] = 70\n",
    "weapon_master['8']['acc'] = 100\n",
    "weapon_master['8']['type'] = 'ELECTR'\n",
    "weapon_master['8']['A_spA'] = 'spA'\n",
    "weapon_master['9']['name'] = 'りゅうのはどう'\n",
    "weapon_master['9']['power'] = 85\n",
    "weapon_master['9']['acc'] = 100\n",
    "weapon_master['9']['type'] = 'DRAGON'\n",
    "weapon_master['9']['A_spA'] = 'spA'\n",
    "weapon_master['10']['name'] = 'サイコキネシス'\n",
    "weapon_master['10']['power'] = 90\n",
    "weapon_master['10']['acc'] = 100\n",
    "weapon_master['10']['type'] = 'PSYCHC'\n",
    "weapon_master['10']['A_spA'] = 'spA'\n",
    "weapon_master['11']['name'] = 'めざめるパワーほのお'\n",
    "weapon_master['11']['power'] = 60\n",
    "weapon_master['11']['acc'] = 100\n",
    "weapon_master['11']['type'] = 'FIRE'\n",
    "weapon_master['11']['A_spA'] = 'spA'\n",
    "weapon_master['12']['name'] = 'シャドーボール'\n",
    "weapon_master['12']['power'] = 80\n",
    "weapon_master['12']['acc'] = 100\n",
    "weapon_master['12']['type'] = 'GHOST'\n",
    "weapon_master['12']['A_spA'] = 'spA'\n",
    "weapon_master['13']['name'] = 'ヘビーボンバー'\n",
    "weapon_master['13']['power'] = 120\n",
    "weapon_master['13']['acc'] = 100\n",
    "weapon_master['13']['type'] = 'STEEL'\n",
    "weapon_master['13']['A_spA'] = 'A'\n",
    "weapon_master['14']['name'] = 'ストーンエッジ'\n",
    "weapon_master['14']['power'] = 120\n",
    "weapon_master['14']['acc'] = 80\n",
    "weapon_master['14']['type'] = 'ROCK'\n",
    "weapon_master['14']['A_spA'] = 'A'\n",
    "weapon_master['15']['name'] = 'エナジーボール'\n",
    "weapon_master['15']['power'] = 80\n",
    "weapon_master['15']['acc'] = 100\n",
    "weapon_master['15']['type'] = 'GRASS'\n",
    "weapon_master['15']['A_spA'] = 'spA'\n",
    "weapon_master['16']['name'] = 'ムーンフォース'\n",
    "weapon_master['16']['power'] = 90\n",
    "weapon_master['16']['acc'] = 100\n",
    "weapon_master['16']['type'] = 'FAIRY'\n",
    "weapon_master['16']['A_spA'] = 'spA'\n",
    "weapon_master['17']['name'] = 'ヘドロばくだん'\n",
    "weapon_master['17']['power'] = 90\n",
    "weapon_master['17']['acc'] = 100\n",
    "weapon_master['17']['type'] = 'POISON'\n",
    "weapon_master['17']['A_spA'] = 'spA'"
   ]
  },
  {
   "cell_type": "code",
   "execution_count": 8,
   "metadata": {
    "collapsed": true
   },
   "outputs": [],
   "source": [
    "f_w = open('weapon_master.json', 'w')\n",
    "json_data = json.dump(weapon_master,f_w,indent=4)\n",
    "f_w.close()"
   ]
  },
  {
   "cell_type": "markdown",
   "metadata": {},
   "source": [
    "タイプ相性マスタ"
   ]
  },
  {
   "cell_type": "code",
   "execution_count": 11,
   "metadata": {
    "collapsed": true
   },
   "outputs": [],
   "source": [
    "type_match_dict = {}"
   ]
  },
  {
   "cell_type": "code",
   "execution_count": 12,
   "metadata": {
    "collapsed": true
   },
   "outputs": [],
   "source": [
    "type_match_dict['ENPTY'] = {\n",
    "}\n",
    "type_match_dict['NORMAL'] = {\n",
    "    'ROCK': 0.5,\n",
    "    'GHOST': 0,\n",
    "    'STEEL' : 0.5,\n",
    "}\n",
    "type_match_dict['FIRE'] = {\n",
    "    'FIRE': 0.5,\n",
    "    'WATER': 0.5,\n",
    "    'GRASS': 2,\n",
    "    'ICE': 2,\n",
    "    'BUG': 2,\n",
    "    'ROCK': 0.5,\n",
    "    'DRAGON': 0.5,\n",
    "    'STEEL': 2,\n",
    "}\n",
    "type_match_dict['WATER'] = {\n",
    "    'FIRE': 2,\n",
    "    'WATER': 0.5,\n",
    "    'GRASS': 0.5,\n",
    "    'GROUND': 2,\n",
    "    'ROCK': 2,\n",
    "    'DRAGON': 0.5,\n",
    "}\n",
    "type_match_dict['ELECTR'] = {\n",
    "    'WATER': 2,\n",
    "    'ELECTR': 0.5,\n",
    "    'GRASS': 0.5,\n",
    "    'GROUND': 0,\n",
    "    'FLYING': 2,\n",
    "    'DRAGON': 0.5,\n",
    "}\n",
    "type_match_dict['GRASS'] = {\n",
    "    'FIRE': 0.5,\n",
    "    'WATER': 2,\n",
    "    'GRASS': 0.5,\n",
    "    'POISON': 0.5,\n",
    "    'GROUND': 2,\n",
    "    'FLYING': 0.5,\n",
    "    'BUG': 0.5,\n",
    "    'ROCK': 2,\n",
    "    'DRAGON': 0.5,\n",
    "    'STEEL': 0.5,\n",
    "    \n",
    "}\n",
    "type_match_dict['ICE'] = {\n",
    "    'WATER': 0.5,\n",
    "    'GRASS': 2,\n",
    "    'ICE': 0.5,\n",
    "    'GROUND': 2,\n",
    "    'FLYING': 2,\n",
    "    'DRAGON': 2,\n",
    "    'STEEL': 0.5,\n",
    "}\n",
    "type_match_dict['FIGHT'] = {\n",
    "    'NORMAL': 2,\n",
    "    'ICE': 2,\n",
    "    'POISON': 0.5,\n",
    "    'FLYING': 0.5,\n",
    "    'PSYCHC': 0.5,\n",
    "    'BUG': 0.5,\n",
    "    'ROCK': 2,\n",
    "    'GHOST': 0,\n",
    "    'DARK': 2,\n",
    "    'STEEL': 2,\n",
    "    'FAIRY': 0.5,\n",
    "}\n",
    "type_match_dict['POISON'] = {\n",
    "    'GRASS': 2,\n",
    "    'POISON': 0.5,\n",
    "    'GROUND': 0.5,\n",
    "    'BUG': 2,\n",
    "    'ROCK': 0.5,\n",
    "    'GHOST': 0.5,\n",
    "    'STEEL': 0,\n",
    "    'FAIRY': 2,\n",
    "}\n",
    "type_match_dict['GROUND'] = {\n",
    "    'FIRE': 2,\n",
    "    'ELECTR': 2,\n",
    "    'GRASS': 0.5,\n",
    "    'POISON': 2,\n",
    "    'FLYING': 0,\n",
    "    'BUG': 0.5,\n",
    "    'ROCK': 2,\n",
    "    'STEEL': 2,\n",
    "}\n",
    "type_match_dict['FLYING'] = {\n",
    "    'ELECTR': 0.5,\n",
    "    'GRASS': 2,\n",
    "    'FIGHT': 2,\n",
    "    'BUG': 2,\n",
    "    'ROCK': 0.5,\n",
    "    'STEEL': 0.5\n",
    "}\n",
    "type_match_dict['PSYCHC'] = {\n",
    "    'FIGHT': 2,\n",
    "    'POISON': 2,\n",
    "    'PSYCHC': 0.5,\n",
    "    'DARK': 0,\n",
    "    'STEEL': 0.5,\n",
    "}\n",
    "type_match_dict['BUG'] = {\n",
    "    'FIRE': 0.5,\n",
    "    'GRASS': 2,\n",
    "    'FIGHT': 0.5,\n",
    "    'POISON': 2,\n",
    "    'FLYING': 0.5,\n",
    "    'PSYCHC': 2,\n",
    "    'GHOST': 0.5,\n",
    "    'DARK': 2,\n",
    "    'STEEL': 0.5,\n",
    "    'FAIRY': 0.5\n",
    "}\n",
    "type_match_dict['ROCK'] = {\n",
    "    'FIRE': 2,\n",
    "    'ICE': 2,\n",
    "    'FIGHT': 0.5,\n",
    "    'GROUND': 0.5,\n",
    "    'FLYING': 2,\n",
    "    'BUG': 2,\n",
    "    'STEEL': 0.5,\n",
    "}\n",
    "type_match_dict['GHOST'] = {\n",
    "    'NORMAL': 0,\n",
    "    'PSYCHC': 2,\n",
    "    'GHOST': 2,\n",
    "    'DARK': 0.5,\n",
    "}\n",
    "type_match_dict['DRAGON'] = {\n",
    "    'DRAGON': 2,\n",
    "    'STEEL': 0.5,\n",
    "}\n",
    "type_match_dict['DARK'] = {\n",
    "    'FIGHT': 0.5,\n",
    "    'PSYCHC' : 2,\n",
    "    'GHOST': 2,\n",
    "    'DARK': 0.5,\n",
    "    'FAIRY': 0.5,\n",
    "    \n",
    "}\n",
    "type_match_dict['STEEL'] = {\n",
    "    'FIRE': 0.5,\n",
    "    'WATER': 0.5,\n",
    "    'ELECTR': 0.5,\n",
    "    'ICE': 2,\n",
    "    'ROCK': 2,\n",
    "    'STEEL': 0.5,\n",
    "    'FAIRY': 2,\n",
    "}\n",
    "type_match_dict['FAIRY'] = {\n",
    "    'FIRE': 0.5,\n",
    "    'FIGHT': 2,\n",
    "    'POISON': 0.5,\n",
    "    'DRAGON': 2,\n",
    "    'DARK': 2,\n",
    "    'STEEL': 0.5,\n",
    "}"
   ]
  },
  {
   "cell_type": "code",
   "execution_count": 13,
   "metadata": {
    "collapsed": false
   },
   "outputs": [
    {
     "data": {
      "text/plain": [
       "0.5"
      ]
     },
     "execution_count": 13,
     "metadata": {},
     "output_type": "execute_result"
    }
   ],
   "source": [
    "type_match_dict['NORMAL']['STEEL']"
   ]
  },
  {
   "cell_type": "code",
   "execution_count": 14,
   "metadata": {
    "collapsed": false
   },
   "outputs": [],
   "source": [
    "f_ty = open('type_match_dict.json', 'w')\n",
    "json_data = json.dump(type_match_dict,f_ty,indent=4)\n",
    "f_ty.close()"
   ]
  },
  {
   "cell_type": "code",
   "execution_count": null,
   "metadata": {
    "collapsed": true
   },
   "outputs": [],
   "source": []
  }
 ],
 "metadata": {
  "kernelspec": {
   "display_name": "Python 3",
   "language": "python",
   "name": "python3"
  },
  "language_info": {
   "codemirror_mode": {
    "name": "ipython",
    "version": 3
   },
   "file_extension": ".py",
   "mimetype": "text/x-python",
   "name": "python",
   "nbconvert_exporter": "python",
   "pygments_lexer": "ipython3",
   "version": "3.5.1"
  }
 },
 "nbformat": 4,
 "nbformat_minor": 0
}
