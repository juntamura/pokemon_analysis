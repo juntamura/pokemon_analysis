{
 "cells": [
  {
   "cell_type": "code",
   "execution_count": 1,
   "metadata": {
    "collapsed": false
   },
   "outputs": [],
   "source": [
    "from enum import Enum"
   ]
  },
  {
   "cell_type": "code",
   "execution_count": 2,
   "metadata": {
    "collapsed": true
   },
   "outputs": [],
   "source": [
    "class PokeType(Enum):\n",
    "    \"\"\"\n",
    "    ポケモンのタイプ定数\n",
    "    \"\"\"\n",
    "    EMPTY = 1\n",
    "    NORMAL = 2  #ノーマル\n",
    "    FIRE = 3  #ほのお\n",
    "    WATER = 4  #みず\n",
    "    ELECTR = 5  #でんき\n",
    "    GRASS = 6  #くさ\n",
    "    ICE = 7  #こおり\n",
    "    FIGHT = 8  #かくとう\n",
    "    POISON = 9  #どく\n",
    "    GROUND = 10  #じめん\n",
    "    FLYING = 11  #ひこう\n",
    "    PSYCHC = 12  #エスパー\n",
    "    BUG = 13  #むし\n",
    "    ROCK = 14  #いわ\n",
    "    GHOST = 15  #ゴースト\n",
    "    DRAGON = 16  #ドラゴン\n",
    "    DARK = 17  #あく\n",
    "    STEEL = 18  #はがね\n",
    "    FAIRY = 19  #フェアリー"
   ]
  }
 ],
 "metadata": {
  "kernelspec": {
   "display_name": "Python 3",
   "language": "python",
   "name": "python3"
  },
  "language_info": {
   "codemirror_mode": {
    "name": "ipython",
    "version": 3
   },
   "file_extension": ".py",
   "mimetype": "text/x-python",
   "name": "python",
   "nbconvert_exporter": "python",
   "pygments_lexer": "ipython3",
   "version": "3.5.1"
  }
 },
 "nbformat": 4,
 "nbformat_minor": 0
}
